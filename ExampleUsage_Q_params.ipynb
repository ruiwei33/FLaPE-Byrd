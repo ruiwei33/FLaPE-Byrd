{
 "cells": [
  {
   "cell_type": "code",
   "execution_count": 1,
   "metadata": {},
   "outputs": [],
   "source": [
    "#notebook to analyze the Sag River Discharge fits\n",
    "#by Mike, January 29, 2021\n",
    "# rui modified, June 2021 for discharge parameters calibration"
   ]
  },
  {
   "cell_type": "code",
   "execution_count": 2,
   "metadata": {},
   "outputs": [],
   "source": [
    "# 1) add FLaPE-Byrd repository location (pulled from github.com/mikedurand/flape-byrd) to the path\n",
    "import sys\n",
    "sys.path.append('/Users/rui/OneDrive - The Ohio State University/SWOT_discharge/test_Q_algo/sac/FLaPE-Byrd/') "
   ]
  },
  {
   "cell_type": "code",
   "execution_count": 3,
   "metadata": {},
   "outputs": [],
   "source": [
    "# 2) import needed modules\n",
    "from FlowLawCalibration import FlowLawCalibration\n",
    "from pprint import pprint\n",
    "from FlowLaws import MWACN,MWAPN,HiVDI,MOMMA\n",
    "import scipy.io\n",
    "import numpy as np"
   ]
  },
  {
   "cell_type": "code",
   "execution_count": 4,
   "metadata": {},
   "outputs": [],
   "source": [
    "river_data = scipy.io.loadmat('/Users/rui/OneDrive - The Ohio State University' \\\n",
    "                              '/SWOT_discharge/test_Q_algo/sac/rch_data.mat')"
   ]
  },
  {
   "cell_type": "code",
   "execution_count": 5,
   "metadata": {},
   "outputs": [],
   "source": [
    "class Domian:\n",
    "    def __init__(self, river_data):\n",
    "        self.nR=len(river_data['rch_id_uniq']) #number of reaches\n",
    "        self.nt=25 #number of overpasses\n",
    "\n",
    "D = Domian(river_data)"
   ]
  },
  {
   "cell_type": "code",
   "execution_count": 6,
   "metadata": {},
   "outputs": [],
   "source": [
    "class ReachTruth:\n",
    "    def __init__(self, river_data):\n",
    "        self.A0 = river_data['rch_ave']['Abar'][0,0].T\n",
    "        self.Q = river_data['rch_ave']['q'][0,0]\n",
    "        self.S = river_data['rch_gdem']['slp'][0,0]\n",
    "        self.w = river_data['rch_gdem']['width'][0,0]\n",
    "        self.h = river_data['rch_gdem']['wse'][0,0]\n",
    "        \n",
    "\n",
    "Truth = ReachTruth(river_data)"
   ]
  },
  {
   "cell_type": "code",
   "execution_count": 7,
   "metadata": {},
   "outputs": [],
   "source": [
    "class ReachObs:\n",
    "    def __init__(self, river_data):\n",
    "        self.h = river_data['rch_swot']['wse'][0,0]\n",
    "        self.h0 = self.h[:,18].T\n",
    "        self.S = river_data['rch_swot']['slp'][0,0]\n",
    "        self.w = river_data['rch_swot']['width'][0,0]\n",
    "        self.dA = river_data['rch_ave']['dA'][0,0]\n",
    "\n",
    "\n",
    "Obs = ReachObs(river_data)"
   ]
  },
  {
   "cell_type": "code",
   "execution_count": 8,
   "metadata": {},
   "outputs": [
    {
     "name": "stderr",
     "output_type": "stream",
     "text": [
      "/Users/rui/Desktop/Git/FLaPE-Byrd/FlowLaws.py:81: RuntimeWarning: divide by zero encountered in true_divide\n",
      "  Q=1/n*((self.h - params[0])*(1/3))**(5/3)*self.W*self.S**(1/2)\n",
      "/Users/rui/opt/anaconda3/lib/python3.8/site-packages/scipy/optimize/_numdiff.py:497: RuntimeWarning: invalid value encountered in subtract\n",
      "  df = fun(x) - f0\n",
      "/Users/rui/Desktop/Git/FLaPE-Byrd/FlowLaws.py:28: RuntimeWarning: invalid value encountered in sqrt\n",
      "  Q=1/params[0]*(params[1]+self.dA)**(5/3)*self.W**(-2/3)*self.S**(1/2)\n",
      "/Users/rui/opt/anaconda3/lib/python3.8/site-packages/scipy/optimize/_numdiff.py:390: RuntimeWarning: invalid value encountered in less\n",
      "  if np.any((x0 < lb) | (x0 > ub)):\n",
      "/Users/rui/opt/anaconda3/lib/python3.8/site-packages/scipy/optimize/_numdiff.py:390: RuntimeWarning: invalid value encountered in greater\n",
      "  if np.any((x0 < lb) | (x0 > ub)):\n",
      "/Users/rui/opt/anaconda3/lib/python3.8/site-packages/scipy/optimize/_numdiff.py:405: RuntimeWarning: invalid value encountered in greater_equal\n",
      "  sign_x0 = (x0 >= 0).astype(float) * 2 - 1\n",
      "/Users/rui/opt/anaconda3/lib/python3.8/site-packages/scipy/optimize/_numdiff.py:63: RuntimeWarning: invalid value encountered in less\n",
      "  violated = (x < lb) | (x > ub)\n",
      "/Users/rui/opt/anaconda3/lib/python3.8/site-packages/scipy/optimize/_numdiff.py:63: RuntimeWarning: invalid value encountered in greater\n",
      "  violated = (x < lb) | (x > ub)\n",
      "/Users/rui/opt/anaconda3/lib/python3.8/site-packages/scipy/optimize/_numdiff.py:64: RuntimeWarning: invalid value encountered in less_equal\n",
      "  fitting = np.abs(h_total) <= np.maximum(lower_dist, upper_dist)\n",
      "/Users/rui/opt/anaconda3/lib/python3.8/site-packages/scipy/optimize/_numdiff.py:67: RuntimeWarning: invalid value encountered in greater_equal\n",
      "  forward = (upper_dist >= lower_dist) & ~fitting\n",
      "/Users/rui/opt/anaconda3/lib/python3.8/site-packages/scipy/optimize/_numdiff.py:69: RuntimeWarning: invalid value encountered in less\n",
      "  backward = (upper_dist < lower_dist) & ~fitting\n",
      "/Users/rui/Desktop/Git/FLaPE-Byrd/FlowLaws.py:46: RuntimeWarning: invalid value encountered in sqrt\n",
      "  Q=1/n*(params[1]+self.dA)**(5/3)*self.W**(-2/3)*self.S**(1/2)\n",
      "/Users/rui/Desktop/Git/FLaPE-Byrd/FlowLaws.py:62: RuntimeWarning: invalid value encountered in sqrt\n",
      "  Q=np*(params[1]+self.dA)**(5/3)*self.W**(-2/3)*self.S**(1/2)\n",
      "/Users/rui/Desktop/Git/FLaPE-Byrd/FlowLaws.py:81: RuntimeWarning: invalid value encountered in sqrt\n",
      "  Q=1/n*((self.h - params[0])*(1/3))**(5/3)*self.W*self.S**(1/2)\n",
      "/Users/rui/Desktop/Git/FLaPE-Byrd/FlowLaws.py:80: RuntimeWarning: invalid value encountered in log10\n",
      "  n=nb*(1+log10( (params[1] - params[0])/(self.h - params[0]) ))\n",
      "/Users/rui/Desktop/Git/FLaPE-Byrd/FlowLaws.py:61: RuntimeWarning: overflow encountered in power\n",
      "  np=params[0]*((params[1]+self.dA)/self.W)**params[2]\n",
      "/Users/rui/Desktop/Git/FLaPE-Byrd/FlowLawCalibration.py:51: RuntimeWarning: overflow encountered in square\n",
      "  y=sum((Qhat-Q)**2)\n",
      "/Users/rui/Desktop/Git/FLaPE-Byrd/FlowLaws.py:81: RuntimeWarning: invalid value encountered in power\n",
      "  Q=1/n*((self.h - params[0])*(1/3))**(5/3)*self.W*self.S**(1/2)\n"
     ]
    }
   ],
   "source": [
    "# 6) For each reach (usually just one for ArcticDEM) and for each flow law variant, do the calibration calculations\n",
    "Variants=['Constant-n', 'PowerLaw-n', 'HiVDI', 'MOMMA']\n",
    "\n",
    "ReachData=[]\n",
    "for r in range(0,D.nR):\n",
    "    ReachDict={}\n",
    "    ReachDict['dA']=Obs.dA[r,:]\n",
    "    ReachDict['w']=Obs.w[r,:]\n",
    "    ReachDict['S']=Obs.S[r,:]\n",
    "    ReachDict['h']=Obs.h[r,:]\n",
    "    ReachDict['Qtrue']=Truth.Q[r,:]\n",
    "    ReachDict['Strue']=Truth.S[r,:]\n",
    "    \n",
    "    ReachData.append(ReachDict)\n",
    "\n",
    "cals=[] #make a list of results, indexed by reach #\n",
    "for r in range(0,D.nR):    \n",
    "    FlowLawVariants={} #stash flow law variant objects for each reach in a dict       \n",
    "    if 'Constant-n' in Variants and len(ReachData[r]['dA'][~np.isnan(ReachData[r]['w'])]) != 0:     \n",
    "        FlowLawVariants['BAMSADS']=MWACN(ReachData[r]['dA'][~np.isnan(ReachData[r]['w'])],\n",
    "                                         ReachData[r]['w'][~np.isnan(ReachData[r]['w'])],\n",
    "                                         ReachData[r]['S'][~np.isnan(ReachData[r]['w'])],\n",
    "                                         ReachData[r]['h'][~np.isnan(ReachData[r]['w'])])        \n",
    "        \n",
    "    if 'PowerLaw-n' in Variants and len(ReachData[r]['dA'][~np.isnan(ReachData[r]['w'])]) != 0:\n",
    "        FlowLawVariants['MetroMan']=MWAPN(ReachData[r]['dA'][~np.isnan(ReachData[r]['w'])],\n",
    "                                          ReachData[r]['w'][~np.isnan(ReachData[r]['w'])],\n",
    "                                          ReachData[r]['S'][~np.isnan(ReachData[r]['w'])],\n",
    "                                          ReachData[r]['h'][~np.isnan(ReachData[r]['w'])])      \n",
    "    \n",
    "    if 'HiVDI' in Variants and len(ReachData[r]['dA'][~np.isnan(ReachData[r]['w'])]) != 0:\n",
    "        FlowLawVariants['HiVDI']=HiVDI(ReachData[r]['dA'][~np.isnan(ReachData[r]['w'])],\n",
    "                                       ReachData[r]['w'][~np.isnan(ReachData[r]['w'])],\n",
    "                                       ReachData[r]['S'][~np.isnan(ReachData[r]['w'])],\n",
    "                                       ReachData[r]['h'][~np.isnan(ReachData[r]['w'])])  \n",
    "        \n",
    "    if 'MOMMA' in Variants and len(ReachData[r]['dA'][~np.isnan(ReachData[r]['w'])]) != 0:\n",
    "        FlowLawVariants['MOMMA']=MOMMA(ReachData[r]['dA'][~np.isnan(ReachData[r]['w'])],\n",
    "                                       ReachData[r]['w'][~np.isnan(ReachData[r]['w'])],\n",
    "                                       ReachData[r]['S'][~np.isnan(ReachData[r]['w'])],\n",
    "                                       ReachData[r]['h'][~np.isnan(ReachData[r]['w'])]) \n",
    "            \n",
    "    cal={} #make a dictionary of results, keyed off the flow law variant name\n",
    "    for variant in FlowLawVariants.keys():  \n",
    "        flow_law_cal=FlowLawCalibration(D,ReachData[r]['Qtrue'][~np.isnan(ReachData[r]['w'])],\n",
    "                                        FlowLawVariants[variant])\n",
    "        flow_law_cal.CalibrateReach()\n",
    "        cal[variant]=flow_law_cal\n",
    "\n",
    "    cals.append(cal)"
   ]
  },
  {
   "cell_type": "code",
   "execution_count": 9,
   "metadata": {},
   "outputs": [],
   "source": [
    "# MetroMan params: 1. ninf; 2. Abar; 3. p\n",
    "# BAM and SADS params: 1. n; 2. Abar\n",
    "# HiVDI params: 1. alpha; 2. Abar; 3. beta\n",
    "\n",
    "MetroMan_params = []\n",
    "BAMSADS_params = []\n",
    "HiVDI_params = []\n",
    "MOMMA_params = []\n",
    "for i in range(4,18):\n",
    "    #if cals[i]['PowerLaw-n'].param_est is not None:\n",
    "        #MetroMan_params = MetroMan_params.append(cals[i]['PowerLaw-n'].param_est)\n",
    "        MetroMan_params.append(cals[i]['MetroMan'].param_est)\n",
    "        BAMSADS_params.append(cals[i]['BAMSADS'].param_est)\n",
    "        HiVDI_params.append(cals[i]['HiVDI'].param_est)\n",
    "        MOMMA_params.append(cals[i]['MOMMA'].param_est)\n",
    "\n",
    "metroman = {\"MetroMan_params\": np.array(MetroMan_params) }\n",
    "bamsads = {\"BAMSADS_params\": np.array(BAMSADS_params) }\n",
    "hivdi = {\"HiVDI_params\": np.array(HiVDI_params) }\n",
    "momma = {\"MOMMA_params\": np.array(MOMMA_params) }"
   ]
  },
  {
   "cell_type": "code",
   "execution_count": 74,
   "metadata": {},
   "outputs": [
    {
     "name": "stderr",
     "output_type": "stream",
     "text": [
      "<ipython-input-74-d55fe7831bc2>:6: RuntimeWarning: All-NaN slice encountered\n",
      "  MOMMA_params.append(np.nanmax(river_data['rch_gdem']['wse'][0,0], 1))\n",
      "<ipython-input-74-d55fe7831bc2>:7: RuntimeWarning: Mean of empty slice\n",
      "  MOMMA_params.append(np.nanmean(river_data['rch_gdem']['slp'][0,0], 1))\n"
     ]
    }
   ],
   "source": [
    "# MOMMA params from model and gdem rivertiles: 1. mim_ch_ele; 2. bankfull_ch_ele; 3. average slope\n",
    "# datum_offset = river_data['rch_ave']['wse'] - river_data['rch_gdem']['wse']\n",
    "# datum_offset = datum_offset[0,0][:,0]\n",
    "# MOMMA_params.append(river_data['rch_ave']['min_ch_ele'][0,0][:,0] - datum_offset)\n",
    "# MOMMA_params.append(np.nanmax(river_data['rch_gdem']['wse'][0,0], 1))\n",
    "# MOMMA_params.append(np.nanmean(river_data['rch_gdem']['slp'][0,0], 1))\n",
    "# momma = {\"MOMMA_params\": np.array(MOMMA_params)[:,4:18].T }\n"
   ]
  },
  {
   "cell_type": "code",
   "execution_count": 10,
   "metadata": {},
   "outputs": [
    {
     "data": {
      "text/plain": [
       "{'MOMMA_params': array([[1.44529980e+00, 1.21679497e+01, 7.22649902e-05],\n",
       "        [1.67938563e-02, 1.00251922e+01, 3.04037264e-04],\n",
       "        [2.00000000e+00, 1.30000000e+01, 1.00000000e-04],\n",
       "        [1.99989747e+00, 1.29999735e+01, 1.75057248e-03],\n",
       "        [2.43023632e+00, 1.29587184e+01, 2.30614884e-04],\n",
       "        [5.04093504e+00, 1.26683788e+01, 2.60914511e-04],\n",
       "        [4.16064158e+00, 1.26616737e+01, 5.08559955e-02],\n",
       "        [1.02445120e+01, 1.35293137e+01, 8.04971276e-03],\n",
       "        [1.33571386e+01, 1.47238269e+01, 2.99297462e+00],\n",
       "        [1.31295265e+01, 1.88153001e+01, 5.50596508e+00],\n",
       "        [1.46814317e+01, 2.16923466e+01, 6.67166857e+00],\n",
       "        [2.47481010e+01, 2.55098968e+01, 1.31817670e+00],\n",
       "        [2.38952008e+01, 2.66900378e+01, 1.04066539e+01],\n",
       "        [2.72474911e+01, 3.05386055e+01, 1.20188604e+01]])}"
      ]
     },
     "execution_count": 10,
     "metadata": {},
     "output_type": "execute_result"
    }
   ],
   "source": [
    "momma"
   ]
  },
  {
   "cell_type": "code",
   "execution_count": 11,
   "metadata": {},
   "outputs": [
    {
     "data": {
      "text/plain": [
       "{'MetroMan_params': array([[9.53877384e-03, 1.58802705e+02, 5.95505871e-01],\n",
       "        [1.03922195e-02, 1.68324002e+02, 5.24674940e-01],\n",
       "        [3.00000000e-02, 3.50000000e+02, 1.00000000e+00],\n",
       "        [1.28693538e-02, 2.01834401e+02, 3.61862955e-01],\n",
       "        [1.30238994e-02, 1.95370447e+02, 3.65271153e-01],\n",
       "        [1.59208754e-02, 1.96157776e+02, 2.60828667e-01],\n",
       "        [1.00742924e-02, 1.38117273e+02, 7.91454139e-01],\n",
       "        [1.49615513e-02, 1.78901191e+02, 4.85360485e-01],\n",
       "        [1.80122517e-02, 1.75535716e+02, 5.81732359e-01],\n",
       "        [1.55872415e-02, 1.63607798e+02, 6.01471497e-01],\n",
       "        [1.63078245e-02, 1.72213132e+02, 6.55894425e-01],\n",
       "        [1.75813549e-02, 1.53878240e+02, 6.09776704e-01],\n",
       "        [1.29662043e-02, 1.35286628e+02, 5.15082194e-01],\n",
       "        [1.70310670e-02, 1.58393421e+02, 5.21339693e-01]])}"
      ]
     },
     "execution_count": 11,
     "metadata": {},
     "output_type": "execute_result"
    }
   ],
   "source": [
    "metroman"
   ]
  },
  {
   "cell_type": "code",
   "execution_count": 12,
   "metadata": {},
   "outputs": [],
   "source": [
    "# save to .mat \n",
    "# scipy.io.savemat('MetroMan_params_v2_nan.mat', metroman)\n",
    "# scipy.io.savemat('BAMSADS_params_v2_nan.mat', bamsads)\n",
    "# scipy.io.savemat('HiVDI_params_v2_nan.mat', hivdi)\n",
    "scipy.io.savemat('MOMMA_params_v3_nan.mat', momma)"
   ]
  },
  {
   "cell_type": "code",
   "execution_count": 26,
   "metadata": {},
   "outputs": [
    {
     "data": {
      "text/plain": [
       "{'BAMSADS_params': array([[3.08860073e-02, 2.47400318e+02],\n",
       "        [3.02843548e-02, 2.51290612e+02],\n",
       "        [3.00000000e-02, 3.50000000e+02],\n",
       "        [2.26297700e-02, 2.51499132e+02],\n",
       "        [2.84606342e-02, 2.61218054e+02],\n",
       "        [2.55850125e-02, 2.32530197e+02],\n",
       "        [3.74143155e-02, 2.76554649e+02],\n",
       "        [2.85019995e-02, 2.43147044e+02],\n",
       "        [3.41053506e-02, 2.65814940e+02],\n",
       "        [2.99924560e-02, 2.69875942e+02],\n",
       "        [3.51353873e-02, 2.73689265e+02],\n",
       "        [3.67803429e-02, 2.62538048e+02],\n",
       "        [2.18159306e-02, 2.01791156e+02],\n",
       "        [2.88777516e-02, 2.30118408e+02]])}"
      ]
     },
     "execution_count": 26,
     "metadata": {},
     "output_type": "execute_result"
    }
   ],
   "source": [
    "bamsads"
   ]
  },
  {
   "cell_type": "code",
   "execution_count": 27,
   "metadata": {},
   "outputs": [
    {
     "data": {
      "text/plain": [
       "{'HiVDI_params': array([[ 1.04805706e+02,  1.58828162e+02, -5.95357487e-01],\n",
       "        [ 9.62023453e+01,  1.68345838e+02, -5.24550811e-01],\n",
       "        [ 3.33333333e+01,  3.50000000e+02, -1.00000000e+00],\n",
       "        [ 7.76794587e+01,  2.01865566e+02, -3.61657236e-01],\n",
       "        [ 7.67647956e+01,  1.95390430e+02, -3.65162731e-01],\n",
       "        [ 6.27962546e+01,  1.96176902e+02, -2.60697159e-01],\n",
       "        [ 9.92594017e+01,  1.38121619e+02, -7.91433727e-01],\n",
       "        [ 6.68355199e+01,  1.78905964e+02, -4.85335992e-01],\n",
       "        [ 5.55163348e+01,  1.75540265e+02, -5.81707540e-01],\n",
       "        [ 6.41539604e+01,  1.63611088e+02, -6.01457116e-01],\n",
       "        [ 2.33921089e+01,  3.33407853e+02, -1.31666753e-01],\n",
       "        [ 5.68781341e+01,  1.53879358e+02, -6.09770407e-01],\n",
       "        [ 7.71225536e+01,  1.35288544e+02, -5.15070284e-01],\n",
       "        [ 5.87151012e+01,  1.58396438e+02, -5.21321895e-01]])}"
      ]
     },
     "execution_count": 27,
     "metadata": {},
     "output_type": "execute_result"
    }
   ],
   "source": [
    "hivdi"
   ]
  },
  {
   "cell_type": "code",
   "execution_count": 28,
   "metadata": {},
   "outputs": [
    {
     "data": {
      "text/plain": [
       "{'MetroMan_params': array([[9.53877384e-03, 1.58802705e+02, 5.95505871e-01],\n",
       "        [1.03922195e-02, 1.68324002e+02, 5.24674940e-01],\n",
       "        [3.00000000e-02, 3.50000000e+02, 1.00000000e+00],\n",
       "        [1.28693538e-02, 2.01834401e+02, 3.61862955e-01],\n",
       "        [1.30238994e-02, 1.95370447e+02, 3.65271153e-01],\n",
       "        [1.59208754e-02, 1.96157776e+02, 2.60828667e-01],\n",
       "        [1.00742924e-02, 1.38117273e+02, 7.91454139e-01],\n",
       "        [1.49615513e-02, 1.78901191e+02, 4.85360485e-01],\n",
       "        [1.80122517e-02, 1.75535716e+02, 5.81732359e-01],\n",
       "        [1.55872415e-02, 1.63607798e+02, 6.01471497e-01],\n",
       "        [1.63078245e-02, 1.72213132e+02, 6.55894425e-01],\n",
       "        [1.75813549e-02, 1.53878240e+02, 6.09776704e-01],\n",
       "        [1.29662043e-02, 1.35286628e+02, 5.15082194e-01],\n",
       "        [1.70310670e-02, 1.58393421e+02, 5.21339693e-01]])}"
      ]
     },
     "execution_count": 28,
     "metadata": {},
     "output_type": "execute_result"
    }
   ],
   "source": [
    "metroman"
   ]
  },
  {
   "cell_type": "code",
   "execution_count": 12,
   "metadata": {},
   "outputs": [
    {
     "data": {
      "text/plain": [
       "{'HiVDI_params': array([[ 1.04805706e+02,  1.58828162e+02, -5.95357487e-01],\n",
       "        [ 9.62023453e+01,  1.68345838e+02, -5.24550811e-01],\n",
       "        [ 3.33333333e+01,  3.50000000e+02, -1.00000000e+00],\n",
       "        [ 7.76794587e+01,  2.01865566e+02, -3.61657236e-01],\n",
       "        [ 7.67647956e+01,  1.95390430e+02, -3.65162731e-01],\n",
       "        [ 6.27962546e+01,  1.96176902e+02, -2.60697159e-01],\n",
       "        [ 9.92594017e+01,  1.38121619e+02, -7.91433727e-01],\n",
       "        [ 6.68355199e+01,  1.78905964e+02, -4.85335992e-01],\n",
       "        [ 5.55163348e+01,  1.75540265e+02, -5.81707540e-01],\n",
       "        [ 6.41539604e+01,  1.63611088e+02, -6.01457116e-01],\n",
       "        [ 2.33921089e+01,  3.33407853e+02, -1.31666753e-01],\n",
       "        [ 5.68781341e+01,  1.53879358e+02, -6.09770407e-01],\n",
       "        [ 7.71225536e+01,  1.35288544e+02, -5.15070284e-01],\n",
       "        [ 5.87151012e+01,  1.58396438e+02, -5.21321895e-01]])}"
      ]
     },
     "execution_count": 12,
     "metadata": {},
     "output_type": "execute_result"
    }
   ],
   "source": [
    "hivdi"
   ]
  }
 ],
 "metadata": {
  "kernelspec": {
   "display_name": "Python 3",
   "language": "python",
   "name": "python3"
  },
  "language_info": {
   "codemirror_mode": {
    "name": "ipython",
    "version": 3
   },
   "file_extension": ".py",
   "mimetype": "text/x-python",
   "name": "python",
   "nbconvert_exporter": "python",
   "pygments_lexer": "ipython3",
   "version": "3.8.3"
  }
 },
 "nbformat": 4,
 "nbformat_minor": 4
}
